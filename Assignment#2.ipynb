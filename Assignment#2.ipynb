{
 "cells": [
  {
   "cell_type": "markdown",
   "metadata": {},
   "source": [
    "# Muhammad Abdullah\n"
   ]
  },
  {
   "cell_type": "markdown",
   "metadata": {},
   "source": [
    "# Roll No : PIAIC68571\n"
   ]
  },
  {
   "cell_type": "markdown",
   "metadata": {},
   "source": [
    "# Assignment\n",
    " \n"
   ]
  },
  {
   "cell_type": "markdown",
   "metadata": {},
   "source": [
    "# Timing : 3:30PM to 6:30PM"
   ]
  },
  {
   "cell_type": "markdown",
   "metadata": {},
   "source": [
    "# Batch 3\n"
   ]
  },
  {
   "cell_type": "code",
   "execution_count": 16,
   "metadata": {},
   "outputs": [],
   "source": [
    "Name=\"My name is muhammad Abdullah and i am student of PIAIC Batch 3 Islamabad\""
   ]
  },
  {
   "cell_type": "code",
   "execution_count": 4,
   "metadata": {},
   "outputs": [
    {
     "data": {
      "text/plain": [
       "['__add__',\n",
       " '__class__',\n",
       " '__contains__',\n",
       " '__delattr__',\n",
       " '__dir__',\n",
       " '__doc__',\n",
       " '__eq__',\n",
       " '__format__',\n",
       " '__ge__',\n",
       " '__getattribute__',\n",
       " '__getitem__',\n",
       " '__getnewargs__',\n",
       " '__gt__',\n",
       " '__hash__',\n",
       " '__init__',\n",
       " '__init_subclass__',\n",
       " '__iter__',\n",
       " '__le__',\n",
       " '__len__',\n",
       " '__lt__',\n",
       " '__mod__',\n",
       " '__mul__',\n",
       " '__ne__',\n",
       " '__new__',\n",
       " '__reduce__',\n",
       " '__reduce_ex__',\n",
       " '__repr__',\n",
       " '__rmod__',\n",
       " '__rmul__',\n",
       " '__setattr__',\n",
       " '__sizeof__',\n",
       " '__str__',\n",
       " '__subclasshook__',\n",
       " 'capitalize',\n",
       " 'casefold',\n",
       " 'center',\n",
       " 'count',\n",
       " 'encode',\n",
       " 'endswith',\n",
       " 'expandtabs',\n",
       " 'find',\n",
       " 'format',\n",
       " 'format_map',\n",
       " 'index',\n",
       " 'isalnum',\n",
       " 'isalpha',\n",
       " 'isascii',\n",
       " 'isdecimal',\n",
       " 'isdigit',\n",
       " 'isidentifier',\n",
       " 'islower',\n",
       " 'isnumeric',\n",
       " 'isprintable',\n",
       " 'isspace',\n",
       " 'istitle',\n",
       " 'isupper',\n",
       " 'join',\n",
       " 'ljust',\n",
       " 'lower',\n",
       " 'lstrip',\n",
       " 'maketrans',\n",
       " 'partition',\n",
       " 'replace',\n",
       " 'rfind',\n",
       " 'rindex',\n",
       " 'rjust',\n",
       " 'rpartition',\n",
       " 'rsplit',\n",
       " 'rstrip',\n",
       " 'split',\n",
       " 'splitlines',\n",
       " 'startswith',\n",
       " 'strip',\n",
       " 'swapcase',\n",
       " 'title',\n",
       " 'translate',\n",
       " 'upper',\n",
       " 'zfill']"
      ]
     },
     "execution_count": 4,
     "metadata": {},
     "output_type": "execute_result"
    }
   ],
   "source": [
    "dir(Name)"
   ]
  },
  {
   "cell_type": "markdown",
   "metadata": {},
   "source": [
    "# Capitalize\n"
   ]
  },
  {
   "cell_type": "code",
   "execution_count": 6,
   "metadata": {},
   "outputs": [
    {
     "name": "stdout",
     "output_type": "stream",
     "text": [
      "Before: my name is Muhammad Abdullah\n",
      "After: My name is muhammad abdullah\n"
     ]
    }
   ],
   "source": [
    "Nam = \"my name is Muhammad Abdullah\"\n",
    "print(\"Before:\", Nam)\n",
    "print(\"After:\", Nam.capitalize())"
   ]
  },
  {
   "cell_type": "markdown",
   "metadata": {},
   "source": [
    "# Casefold"
   ]
  },
  {
   "cell_type": "code",
   "execution_count": 7,
   "metadata": {},
   "outputs": [
    {
     "name": "stdout",
     "output_type": "stream",
     "text": [
      "Before: my name is Muhammad Abdullah\n",
      "After: my name is muhammad abdullah\n"
     ]
    }
   ],
   "source": [
    "print(\"Before:\", Nam)\n",
    "print(\"After:\", Nam.casefold()) "
   ]
  },
  {
   "cell_type": "markdown",
   "metadata": {},
   "source": [
    "# Center"
   ]
  },
  {
   "cell_type": "code",
   "execution_count": 14,
   "metadata": {},
   "outputs": [
    {
     "name": "stdout",
     "output_type": "stream",
     "text": [
      "Before: my name is Muhammad Abdullah\n",
      "After:                                                          my name is Muhammad Abdullah                                                        \n"
     ]
    }
   ],
   "source": [
    "print(\"Before:\", Nam)\n",
    "print(\"After:\", Nam.center(141))"
   ]
  },
  {
   "cell_type": "code",
   "execution_count": 17,
   "metadata": {},
   "outputs": [
    {
     "name": "stdout",
     "output_type": "stream",
     "text": [
      "No. of Substrings : 1\n"
     ]
    }
   ],
   "source": [
    "\n",
    "print(\"No. of Substrings :\", Nam.count('Abdullah'))"
   ]
  },
  {
   "cell_type": "code",
   "execution_count": 19,
   "metadata": {},
   "outputs": [
    {
     "name": "stdout",
     "output_type": "stream",
     "text": [
      "The string is: i love Programming\n",
      "The encoded version is: b'i love Programming'\n"
     ]
    }
   ],
   "source": [
    "string = 'i love Programming'\n",
    "\n",
    "print('The string is:', string)\n",
    "string_utf = string.encode()\n",
    "\n",
    "\n",
    "print('The encoded version is:', string_utf)"
   ]
  },
  {
   "cell_type": "code",
   "execution_count": 22,
   "metadata": {},
   "outputs": [
    {
     "name": "stdout",
     "output_type": "stream",
     "text": [
      "Is this string ends with 'a Programmer' : True\n",
      "Is this string ends with 'a Python' : False\n"
     ]
    }
   ],
   "source": [
    "intro = \"My name is Muhammad Abdullah and I am Engineer\"\n",
    "print(\"Is this string ends with 'a Programmer' :\", intro.endswith(\"Engineer\"))\n",
    "print(\"Is this string ends with 'a Python' :\", intro.endswith(\"a Scientist\"))"
   ]
  },
  {
   "cell_type": "code",
   "execution_count": 23,
   "metadata": {},
   "outputs": [
    {
     "name": "stdout",
     "output_type": "stream",
     "text": [
      "Bydefault is 8: My      name    is      Muhammad        Abdullah\n",
      "With Parameter is 2: My  name  is  Muhammad  Abdullah\n"
     ]
    }
   ],
   "source": [
    "intro = \"My\\tname\\tis\\tMuhammad\\tAbdullah\"\n",
    "print(\"Bydefault is 8:\", intro.expandtabs())\n",
    "print(\"With Parameter is 2:\", intro.expandtabs(2))"
   ]
  },
  {
   "cell_type": "code",
   "execution_count": 24,
   "metadata": {},
   "outputs": [
    {
     "name": "stdout",
     "output_type": "stream",
     "text": [
      "Substring 'Abdullah' found at index: 11\n"
     ]
    }
   ],
   "source": [
    "intro = \"My name is Muhammad Abdullah and I am an Engineer\"\n",
    "find_str = \"Muhammad\"\n",
    "print(\"Substring 'Abdullah' found at index:\", intro.find(find_str))"
   ]
  },
  {
   "cell_type": "code",
   "execution_count": 25,
   "metadata": {},
   "outputs": [
    {
     "name": "stdout",
     "output_type": "stream",
     "text": [
      "My name is Abdullah and I am a Computer scientist and Engineer\n"
     ]
    }
   ],
   "source": [
    "print(\"My name is {2} and I am a {0} and {1}\" \n",
    "      .format(\"Computer scientist\", \"Engineer\", \"Abdullah\"))"
   ]
  },
  {
   "cell_type": "code",
   "execution_count": 26,
   "metadata": {},
   "outputs": [
    {
     "name": "stdout",
     "output_type": "stream",
     "text": [
      "My name is Muhammad Abdullah and my profession is Computer Engineer\n"
     ]
    }
   ],
   "source": [
    "intro = {'name':'Muhammad Abdullah', 'profession':'Computer Engineer'} \n",
    "print(\"My name is {name} and my profession is {profession}\".format_map(intro))"
   ]
  },
  {
   "cell_type": "code",
   "execution_count": 27,
   "metadata": {},
   "outputs": [
    {
     "name": "stdout",
     "output_type": "stream",
     "text": [
      "3\n",
      "3\n"
     ]
    }
   ],
   "source": [
    "intro = \"My name is Muhammad Abdullah and I am a Programmer\"\n",
    "print(intro.index('name'))\n",
    "print(intro.index('name', 1, 7))"
   ]
  },
  {
   "cell_type": "code",
   "execution_count": 30,
   "metadata": {},
   "outputs": [
    {
     "name": "stdout",
     "output_type": "stream",
     "text": [
      "True\n",
      "False\n"
     ]
    }
   ],
   "source": [
    "intro = \"Hurricane97\"\n",
    "print(intro.isalnum())\n",
    "\n",
    "# This sentence contains whitespace\n",
    "intro = \"My name is Abdullah\"\n",
    "print(intro.isalnum())"
   ]
  },
  {
   "cell_type": "code",
   "execution_count": 33,
   "metadata": {},
   "outputs": [
    {
     "name": "stdout",
     "output_type": "stream",
     "text": [
      "True\n",
      "False\n"
     ]
    }
   ],
   "source": [
    "username1 = 'Hurricane'\n",
    "print(username1.isalpha())\n",
    "\n",
    "username2 = 'Hurricane@97'\n",
    "print(username2.isalpha())"
   ]
  },
  {
   "cell_type": "code",
   "execution_count": 35,
   "metadata": {},
   "outputs": [
    {
     "name": "stdout",
     "output_type": "stream",
     "text": [
      "True\n",
      "True\n"
     ]
    }
   ],
   "source": [
    "empty_string = '  '\n",
    "print(empty_string.isascii())\n",
    "\n",
    "username2 = 'Hurricane@97'\n",
    "print(username2.isascii())"
   ]
  },
  {
   "cell_type": "code",
   "execution_count": 36,
   "metadata": {},
   "outputs": [
    {
     "name": "stdout",
     "output_type": "stream",
     "text": [
      "True\n",
      "False\n"
     ]
    }
   ],
   "source": [
    "roll_no = \"571\"\n",
    "print(roll_no.isdecimal())\n",
    "\n",
    "username2 = 'Hurricane@97'\n",
    "print(username2.isdecimal())"
   ]
  },
  {
   "cell_type": "code",
   "execution_count": 37,
   "metadata": {},
   "outputs": [
    {
     "name": "stdout",
     "output_type": "stream",
     "text": [
      "True\n",
      "False\n"
     ]
    }
   ],
   "source": [
    "phone_no = \"030400110011\";  \n",
    "print(phone_no.isdigit()) \n",
    "\n",
    "phone_no = \"My Phone no. is 01100110\";  \n",
    "print(phone_no.isdigit())"
   ]
  },
  {
   "cell_type": "code",
   "execution_count": 38,
   "metadata": {},
   "outputs": [
    {
     "name": "stdout",
     "output_type": "stream",
     "text": [
      "Is this valid identifier:  True\n",
      "Is this valid identifier:  False\n"
     ]
    }
   ],
   "source": [
    "variable_name = \"sum\"\n",
    "result = variable_name.isidentifier() \n",
    "print(\"Is this valid identifier: \", result)\n",
    "\n",
    "variable_name1 = \"14sum\"\n",
    "result = variable_name1.isidentifier() \n",
    "print(\"Is this valid identifier: \", result)"
   ]
  },
  {
   "cell_type": "code",
   "execution_count": 40,
   "metadata": {},
   "outputs": [
    {
     "name": "stdout",
     "output_type": "stream",
     "text": [
      "False\n",
      "True\n"
     ]
    }
   ],
   "source": [
    "username = \"Abdullah\"\n",
    "print(username.islower())\n",
    "\n",
    "username = \"huricane\"\n",
    "print(username.islower())"
   ]
  },
  {
   "cell_type": "code",
   "execution_count": 41,
   "metadata": {},
   "outputs": [
    {
     "name": "stdout",
     "output_type": "stream",
     "text": [
      "True\n",
      "False\n"
     ]
    }
   ],
   "source": [
    "postal_code = \"47040\"\n",
    "print(postal_code.isnumeric())\n",
    "\n",
    "weight = \"75Kg\"\n",
    "print(weight.isnumeric())"
   ]
  },
  {
   "cell_type": "code",
   "execution_count": 43,
   "metadata": {},
   "outputs": [
    {
     "name": "stdout",
     "output_type": "stream",
     "text": [
      "True\n",
      "False\n"
     ]
    }
   ],
   "source": [
    "intro = \"My name is Muhammad Abdullah\"\n",
    "print(intro.isprintable())\n",
    "\n",
    "\n",
    "intro1 = \"My name \\t is \\n Abdullah\"\n",
    "print(intro1.isprintable())"
   ]
  },
  {
   "cell_type": "code",
   "execution_count": 44,
   "metadata": {},
   "outputs": [
    {
     "name": "stdout",
     "output_type": "stream",
     "text": [
      "False\n",
      "False\n",
      "True\n",
      "True\n",
      "False\n",
      "False\n"
     ]
    }
   ],
   "source": [
    "full_name = \"My name is Muhammad Abdullah\"\n",
    "print(full_name.isspace())\n",
    "\n",
    "full_name1 = \"Muhammad Abdullah\"\n",
    "print(full_name1.isspace())\n",
    "\n",
    "full_name2 = \"\\t \\t\"\n",
    "print(full_name2.isspace())\n",
    "\n",
    "full_name2 = \"\\n \\n\"\n",
    "print(full_name2.isspace())\n",
    "\n",
    "full_name3 = \"My\\tName\\tis\\tMuhammad Abdullah\"\n",
    "print(full_name3.isspace())\n",
    "\n",
    "full_name4 = \"My\\nName\\nis\\nMuhammad \\tAbdullah\"\n",
    "print(full_name4.isspace())"
   ]
  },
  {
   "cell_type": "code",
   "execution_count": 45,
   "metadata": {},
   "outputs": [
    {
     "name": "stdout",
     "output_type": "stream",
     "text": [
      "True\n",
      "False\n"
     ]
    }
   ],
   "source": [
    "story_title = \"A Dove And The Bee\"\n",
    "print(story_title.istitle())\n",
    "\n",
    "story_title = \"A Dove and The bee\"\n",
    "print(story_title.istitle())"
   ]
  },
  {
   "cell_type": "code",
   "execution_count": 47,
   "metadata": {},
   "outputs": [
    {
     "name": "stdout",
     "output_type": "stream",
     "text": [
      "True\n",
      "False\n"
     ]
    }
   ],
   "source": [
    "name = \"MUAHMMAD ABDULLAH\"\n",
    "print(name.isupper())\n",
    "\n",
    "name1 = \"Muhammad abdullah\"\n",
    "print(name1.isupper())"
   ]
  },
  {
   "cell_type": "code",
   "execution_count": 49,
   "metadata": {},
   "outputs": [
    {
     "name": "stdout",
     "output_type": "stream",
     "text": [
      "['1', '2', '3', '4']\n",
      "1, 2, 3, 4\n",
      "('1', '2', '3', '4')\n",
      "1, 2, 3, 4\n",
      "a123b123c\n",
      "PHP--->Python--->JavaScript\n"
     ]
    }
   ],
   "source": [
    "numList = ['1', '2', '3', '4']\n",
    "seperator = ', '\n",
    "print(numList)\n",
    "print(seperator.join(numList))\n",
    "\n",
    "numTuple = ('1', '2', '3', '4')\n",
    "print(numTuple)\n",
    "print(seperator.join(numTuple))\n",
    "\n",
    "# Each character of set_1 is concatenated to the front of set_2\n",
    "str_1 = \"abc\"\n",
    "str_2 = \"123\" \n",
    "\n",
    "\n",
    "print(str_2.join(str_1))\n",
    "\n",
    "prog_lang_set = {'Python', 'PHP', 'JavaScript'}\n",
    "s = '--->'\n",
    "print(s.join(prog_lang_set))\n"
   ]
  },
  {
   "cell_type": "code",
   "execution_count": 55,
   "metadata": {},
   "outputs": [
    {
     "name": "stdout",
     "output_type": "stream",
     "text": [
      "I am  a Data Scientist !!!!!!!!!!!!!!!!!!!!!!!!!!!\n",
      "++++++++++++++++++++++++++++++ I am  a ML Engineer\n"
     ]
    }
   ],
   "source": [
    "msg = \"I am  a Data Scientist \";\n",
    "print(msg.ljust(50, '!'))\n",
    "\n",
    "msg = \" I am  a ML Engineer\";\n",
    "print(msg.rjust(50, '+'))"
   ]
  },
  {
   "cell_type": "code",
   "execution_count": 56,
   "metadata": {},
   "outputs": [
    {
     "name": "stdout",
     "output_type": "stream",
     "text": [
      "muahmmad abdullah\n"
     ]
    }
   ],
   "source": [
    "print(name.lower())"
   ]
  },
  {
   "cell_type": "code",
   "execution_count": 57,
   "metadata": {},
   "outputs": [
    {
     "name": "stdout",
     "output_type": "stream",
     "text": [
      "I am the Best\n",
      "the Best\n"
     ]
    }
   ],
   "source": [
    "str = \"    I am the Best\"\n",
    "# remove empty spaces from left\n",
    "print(str.lstrip())\n",
    "\n",
    "str = \"I am the Best\"\n",
    "\n",
    "#remove I am from the string\n",
    "print(str.lstrip(\"I am\"))"
   ]
  },
  {
   "cell_type": "code",
   "execution_count": 58,
   "metadata": {},
   "outputs": [
    {
     "name": "stdout",
     "output_type": "stream",
     "text": [
      "{'a': '123', 'b': '456', 'c': '789', 'd': '999'}\n",
      "{97: '123', 98: '456', 99: '789', 100: '999'}\n",
      "{97: '123', 98: '456', 99: '789'}\n",
      "{97: '123', 98: '456', 99: '789'}\n"
     ]
    }
   ],
   "source": [
    "dict = {\"a\": \"123\", \"b\": \"456\", \"c\": \"789\", \"d\": \"999\"}\n",
    "string = \"abc\"\n",
    "print(dict)\n",
    "print(string.maketrans(dict))\n",
    "\n",
    "dict2 = {97: \"123\", 98: \"456\", 99: \"789\"}\n",
    "string2 = \"abc\"\n",
    "print(dict2)\n",
    "print(string2.maketrans(dict2))"
   ]
  },
  {
   "cell_type": "code",
   "execution_count": 59,
   "metadata": {},
   "outputs": [
    {
     "name": "stdout",
     "output_type": "stream",
     "text": [
      "{97: 103, 98: 104, 99: 105}\n"
     ]
    },
    {
     "ename": "ValueError",
     "evalue": "the first two maketrans arguments must have equal length",
     "output_type": "error",
     "traceback": [
      "\u001b[1;31m---------------------------------------------------------------------------\u001b[0m",
      "\u001b[1;31mValueError\u001b[0m                                Traceback (most recent call last)",
      "\u001b[1;32m<ipython-input-59-37a6db9c7a44>\u001b[0m in \u001b[0;36m<module>\u001b[1;34m\u001b[0m\n\u001b[0;32m      8\u001b[0m \u001b[0msecondString\u001b[0m \u001b[1;33m=\u001b[0m \u001b[1;34m\"defghi\"\u001b[0m\u001b[1;33m\u001b[0m\u001b[1;33m\u001b[0m\u001b[0m\n\u001b[0;32m      9\u001b[0m \u001b[0mstring\u001b[0m \u001b[1;33m=\u001b[0m \u001b[1;34m\"abc\"\u001b[0m\u001b[1;33m\u001b[0m\u001b[1;33m\u001b[0m\u001b[0m\n\u001b[1;32m---> 10\u001b[1;33m \u001b[0mprint\u001b[0m\u001b[1;33m(\u001b[0m\u001b[0mstring\u001b[0m\u001b[1;33m.\u001b[0m\u001b[0mmaketrans\u001b[0m\u001b[1;33m(\u001b[0m\u001b[0mfirstString\u001b[0m\u001b[1;33m,\u001b[0m \u001b[0msecondString\u001b[0m\u001b[1;33m)\u001b[0m\u001b[1;33m)\u001b[0m\u001b[1;33m\u001b[0m\u001b[1;33m\u001b[0m\u001b[0m\n\u001b[0m",
      "\u001b[1;31mValueError\u001b[0m: the first two maketrans arguments must have equal length"
     ]
    }
   ],
   "source": [
    "firstString = \"abc\"\n",
    "secondString = \"ghi\"\n",
    "string = \"abc\"\n",
    "print(string.maketrans(firstString, secondString))\n",
    "\n",
    "#the first two maketrans arguments must have equal length\n",
    "firstString = \"abc\"\n",
    "secondString = \"defghi\"\n",
    "string = \"abc\"\n",
    "print(string.maketrans(firstString, secondString))"
   ]
  },
  {
   "cell_type": "code",
   "execution_count": 60,
   "metadata": {},
   "outputs": [
    {
     "name": "stdout",
     "output_type": "stream",
     "text": [
      "('Be good ', 'and', ' Have good')\n",
      "('', 'People', ' are very kind')\n"
     ]
    }
   ],
   "source": [
    "msg = \"Be good and Have good\"\n",
    "print(msg.partition(\"and\"))\n",
    "\n",
    "msg = \"People are very kind\"\n",
    "print(msg.partition(\"People\"))"
   ]
  },
  {
   "cell_type": "code",
   "execution_count": 62,
   "metadata": {},
   "outputs": [
    {
     "name": "stdout",
     "output_type": "stream",
     "text": [
      "Before:  I am MR Robot\n",
      "After:  I am Mr Robot\n"
     ]
    }
   ],
   "source": [
    "str = \"I am MR Robot\"\n",
    "print(\"Before: \", str)\n",
    "print(\"After: \", str.replace(\"MR\", \"Mr\"))"
   ]
  },
  {
   "cell_type": "code",
   "execution_count": 65,
   "metadata": {},
   "outputs": [
    {
     "name": "stdout",
     "output_type": "stream",
     "text": [
      "34\n",
      "0\n"
     ]
    }
   ],
   "source": [
    "str1 = \"PIAIC is President Initiative and PIAIC provide Quality Education\"\n",
    "\n",
    "print(str1.rfind(\"PIAIC\"))\n",
    "\n",
    "print(str1.find(\"PIAIC\"))"
   ]
  },
  {
   "cell_type": "code",
   "execution_count": 66,
   "metadata": {},
   "outputs": [
    {
     "name": "stdout",
     "output_type": "stream",
     "text": [
      "34\n",
      "0\n"
     ]
    }
   ],
   "source": [
    "str1 = \"PIAIC is President Initiative and PIAIC provide Quality Education\"\n",
    "\n",
    "print(str1.rindex(\"PIAIC\"))\n",
    "\n",
    "print(str1.index(\"PIAIC\"))"
   ]
  },
  {
   "cell_type": "code",
   "execution_count": 67,
   "metadata": {},
   "outputs": [
    {
     "name": "stdout",
     "output_type": "stream",
     "text": [
      "Python****\n",
      "****Python\n"
     ]
    }
   ],
   "source": [
    "string = 'Python'\n",
    "length = 10 # total length of string\n",
    "fillchar = '*'\n",
    "\n",
    "# print left justified string \n",
    "print(string.ljust(length, fillchar))\n",
    "\n",
    "#it's return a new string of given length after substituting a given character in left side of original string\n",
    "\n",
    "print(string.rjust(length, fillchar))"
   ]
  },
  {
   "cell_type": "code",
   "execution_count": 68,
   "metadata": {},
   "outputs": [
    {
     "name": "stdout",
     "output_type": "stream",
     "text": [
      "('Do good - and -  have good ', '-', ' be good')\n"
     ]
    }
   ],
   "source": [
    "msg = \"Do good - and -  have good - be good\"\n",
    "print(msg.rpartition('-'))"
   ]
  },
  {
   "cell_type": "code",
   "execution_count": 69,
   "metadata": {},
   "outputs": [
    {
     "name": "stdout",
     "output_type": "stream",
     "text": [
      "['Do good - and -  have good ', ' be good']\n",
      "['Do good - and ', '  have good ', ' be good']\n",
      "['Do good ', ' and ', '  have good ', ' be good']\n"
     ]
    }
   ],
   "source": [
    "msg = \"Do good - and -  have good - be good\"\n",
    "# maxsplit: 1\n",
    "print(msg.rsplit('-', 1))\n",
    "# maxsplit: 2\n",
    "print(msg.rsplit('-', 2))\n",
    "print(msg.split('-'))"
   ]
  },
  {
   "cell_type": "code",
   "execution_count": 70,
   "metadata": {},
   "outputs": [
    {
     "name": "stdout",
     "output_type": "stream",
     "text": [
      "you are g\n"
     ]
    }
   ],
   "source": [
    "str = 'you are good'\n",
    "print(str.rstrip(\"od\"))"
   ]
  },
  {
   "cell_type": "code",
   "execution_count": 71,
   "metadata": {},
   "outputs": [
    {
     "name": "stdout",
     "output_type": "stream",
     "text": [
      "['you ', ' are ', ' good']\n",
      "['you ', ' are - good']\n"
     ]
    }
   ],
   "source": [
    "\n",
    "str = 'you - are - good'\n",
    "print(str.split(\"-\"))\n",
    "#maxSplit one\n",
    "print(str.split(\"-\", 1))"
   ]
  },
  {
   "cell_type": "code",
   "execution_count": 72,
   "metadata": {},
   "outputs": [
    {
     "name": "stdout",
     "output_type": "stream",
     "text": [
      "['Python ', ' is a scripting ', ' language']\n"
     ]
    }
   ],
   "source": [
    "str = \"Python \\n is a scripting \\r language\"  \n",
    "print(str.splitlines())"
   ]
  },
  {
   "cell_type": "code",
   "execution_count": 73,
   "metadata": {},
   "outputs": [
    {
     "name": "stdout",
     "output_type": "stream",
     "text": [
      "True\n",
      "False\n",
      "False\n"
     ]
    }
   ],
   "source": [
    "str = \"~Muhammad abdullah\"\n",
    "print(str.startswith(\"~\"))\n",
    "print(str.startswith(\"~abdullah\"))\n",
    "print(str.startswith(\"*\"))"
   ]
  },
  {
   "cell_type": "code",
   "execution_count": 74,
   "metadata": {},
   "outputs": [
    {
     "name": "stdout",
     "output_type": "stream",
     "text": [
      "Before:  Hello, My Friend\n",
      "My Friend\n"
     ]
    }
   ],
   "source": [
    "str = \"Hello, My Friend\"\n",
    "print(\"Before: \", str)\n",
    "print(str.strip(\"Hello, \"))"
   ]
  },
  {
   "cell_type": "code",
   "execution_count": 75,
   "metadata": {},
   "outputs": [
    {
     "name": "stdout",
     "output_type": "stream",
     "text": [
      "Before:  GoOd MoRnInG\n",
      "After:  gOoD mOrNiNg\n"
     ]
    }
   ],
   "source": [
    "moring_msg = \"GoOd MoRnInG\"\n",
    "print(\"Before: \", moring_msg)\n",
    "print(\"After: \", moring_msg.swapcase())"
   ]
  },
  {
   "cell_type": "code",
   "execution_count": 76,
   "metadata": {},
   "outputs": [
    {
     "name": "stdout",
     "output_type": "stream",
     "text": [
      "Before:  Union is strength\n",
      "After:  Union Is Strength\n"
     ]
    }
   ],
   "source": [
    "moral_lesson =\"Union is strength\"\n",
    "print(\"Before: \", moral_lesson)\n",
    "print(\"After: \", moral_lesson.title())"
   ]
  },
  {
   "cell_type": "code",
   "execution_count": 77,
   "metadata": {},
   "outputs": [
    {
     "name": "stdout",
     "output_type": "stream",
     "text": [
      "Original string: abcdef\n",
      "Example 1:\n",
      "{97: None, 98: None, 99: 105}\n",
      "Translated string: idef\n",
      "Example 2:\n",
      "{97: 103, 98: 104, 99: 105}\n",
      "Translated string: ghidef\n"
     ]
    }
   ],
   "source": [
    "firstString = \"abc\"\n",
    "secondString = \"ghi\"\n",
    "thirdString = \"ab\"\n",
    "\n",
    "string = \"abcdef\"\n",
    "print(\"Original string:\", string)\n",
    "\n",
    "#Example 1\n",
    "print(\"Example 1:\")\n",
    "translation = string.maketrans(firstString, secondString, thirdString)\n",
    "print(translation)\n",
    "\n",
    "# translate string\n",
    "print(\"Translated string:\", string.translate(translation))\n",
    "#Explanation:\n",
    "#Here, the translation mapping translation contains the mapping from a, b and c to g, h and i respectively.\n",
    "#But, the removal string thirdString resets the mapping to a and b to None.\n",
    "#So, when the string is translated using translate(), a and b are removed, and c is replaced i outputting idef\n",
    "\n",
    "#Exaple 2\n",
    "print(\"Example 2:\")\n",
    "translation = string.maketrans(firstString, secondString)\n",
    "print(translation)\n",
    "\n",
    "# translate string\n",
    "print(\"Translated string:\", string.translate(translation))"
   ]
  },
  {
   "cell_type": "code",
   "execution_count": 78,
   "metadata": {},
   "outputs": [
    {
     "name": "stdout",
     "output_type": "stream",
     "text": [
      "Before:  i am the best\n",
      "Before:  I AM THE BEST\n"
     ]
    }
   ],
   "source": [
    "str_lower = \"i am the best\"\n",
    "print(\"Before: \", str_lower)\n",
    "print(\"Before: \", str_lower.upper())"
   ]
  },
  {
   "cell_type": "code",
   "execution_count": 79,
   "metadata": {},
   "outputs": [
    {
     "name": "stdout",
     "output_type": "stream",
     "text": [
      "000000000000125678\n"
     ]
    }
   ],
   "source": [
    "name = \"125678\"\n",
    "print(name.zfill(18))"
   ]
  },
  {
   "cell_type": "code",
   "execution_count": 80,
   "metadata": {},
   "outputs": [
    {
     "data": {
      "text/plain": [
       "2104.4"
      ]
     },
     "execution_count": 80,
     "metadata": {},
     "output_type": "execute_result"
    }
   ],
   "source": [
    "14 + (19 * 111) + 2 / 25 // 5 ** 8 - 13 % 5 + (16/4) *\\\n",
    "18 - 13 / 5 + 10 % 12 + (18 % 6) + 5 - 100  "
   ]
  }
 ],
 "metadata": {
  "kernelspec": {
   "display_name": "Python 3",
   "language": "python",
   "name": "python3"
  },
  "language_info": {
   "codemirror_mode": {
    "name": "ipython",
    "version": 3
   },
   "file_extension": ".py",
   "mimetype": "text/x-python",
   "name": "python",
   "nbconvert_exporter": "python",
   "pygments_lexer": "ipython3",
   "version": "3.7.4"
  }
 },
 "nbformat": 4,
 "nbformat_minor": 2
}
